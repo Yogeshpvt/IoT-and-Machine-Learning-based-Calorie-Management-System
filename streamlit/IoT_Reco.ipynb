{
 "cells": [
  {
   "cell_type": "code",
   "execution_count": 1,
   "id": "52e85145",
   "metadata": {},
   "outputs": [],
   "source": [
    "import pandas as pd\n",
    "import numpy as np\n",
    "\n",
    "from ast import literal_eval\n",
    "from collections import Counter\n",
    "from tqdm.auto import tqdm\n",
    "import warnings\n",
    "\n",
    "pd.set_option('display.max_colwidth', 1000)\n",
    "warnings.filterwarnings(\"ignore\")\n",
    "tqdm.pandas()"
   ]
  },
  {
   "cell_type": "code",
   "execution_count": 2,
   "id": "458cac1c",
   "metadata": {},
   "outputs": [],
   "source": [
    "import csv\n",
    "\n",
    "def combine_csv_columns(file1, file2, output_file):\n",
    "    with open(file1, 'r', newline='') as f1, open(file2, 'r', newline='') as f2, open(output_file, 'w', newline='') as output:\n",
    "        reader1 = csv.reader(f1)\n",
    "        reader2 = csv.reader(f2)\n",
    "\n",
    "        writer = csv.writer(output)\n",
    "\n",
    "        for row1, row2 in zip(reader1, reader2):\n",
    "            combined_row = row1 + row2\n",
    "            writer.writerow(combined_row)\n",
    "\n",
    "#combine_csv_columns('ratings.csv', 'cycle_data.csv', 'combined_columns.csv')"
   ]
  },
  {
   "cell_type": "code",
   "execution_count": 2,
   "id": "e0133ddd",
   "metadata": {},
   "outputs": [
    {
     "data": {
      "text/html": [
       "<div>\n",
       "<style scoped>\n",
       "    .dataframe tbody tr th:only-of-type {\n",
       "        vertical-align: middle;\n",
       "    }\n",
       "\n",
       "    .dataframe tbody tr th {\n",
       "        vertical-align: top;\n",
       "    }\n",
       "\n",
       "    .dataframe thead th {\n",
       "        text-align: right;\n",
       "    }\n",
       "</style>\n",
       "<table border=\"1\" class=\"dataframe\">\n",
       "  <thead>\n",
       "    <tr style=\"text-align: right;\">\n",
       "      <th></th>\n",
       "      <th>foodnumber</th>\n",
       "      <th>User</th>\n",
       "      <th>Rating</th>\n",
       "      <th>Time Taken (s)</th>\n",
       "      <th>Total Distance (km)</th>\n",
       "      <th>Average Speed (km/h)</th>\n",
       "      <th>Total Calories Burned (cal)</th>\n",
       "    </tr>\n",
       "  </thead>\n",
       "  <tbody>\n",
       "    <tr>\n",
       "      <th>0</th>\n",
       "      <td>0</td>\n",
       "      <td>111</td>\n",
       "      <td>1</td>\n",
       "      <td>2081</td>\n",
       "      <td>17.91</td>\n",
       "      <td>30.99</td>\n",
       "      <td>613.64</td>\n",
       "    </tr>\n",
       "    <tr>\n",
       "      <th>1</th>\n",
       "      <td>1</td>\n",
       "      <td>112</td>\n",
       "      <td>4</td>\n",
       "      <td>2476</td>\n",
       "      <td>10.94</td>\n",
       "      <td>15.90</td>\n",
       "      <td>247.50</td>\n",
       "    </tr>\n",
       "    <tr>\n",
       "      <th>2</th>\n",
       "      <td>2</td>\n",
       "      <td>113</td>\n",
       "      <td>3</td>\n",
       "      <td>3563</td>\n",
       "      <td>44.99</td>\n",
       "      <td>45.45</td>\n",
       "      <td>1041.50</td>\n",
       "    </tr>\n",
       "    <tr>\n",
       "      <th>3</th>\n",
       "      <td>3</td>\n",
       "      <td>114</td>\n",
       "      <td>4</td>\n",
       "      <td>1138</td>\n",
       "      <td>17.43</td>\n",
       "      <td>55.13</td>\n",
       "      <td>372.60</td>\n",
       "    </tr>\n",
       "    <tr>\n",
       "      <th>4</th>\n",
       "      <td>4</td>\n",
       "      <td>115</td>\n",
       "      <td>4</td>\n",
       "      <td>377</td>\n",
       "      <td>4.58</td>\n",
       "      <td>43.73</td>\n",
       "      <td>105.40</td>\n",
       "    </tr>\n",
       "  </tbody>\n",
       "</table>\n",
       "</div>"
      ],
      "text/plain": [
       "   foodnumber  User  Rating  Time Taken (s)  Total Distance (km)  \\\n",
       "0           0   111       1            2081                17.91   \n",
       "1           1   112       4            2476                10.94   \n",
       "2           2   113       3            3563                44.99   \n",
       "3           3   114       4            1138                17.43   \n",
       "4           4   115       4             377                 4.58   \n",
       "\n",
       "   Average Speed (km/h)  Total Calories Burned (cal)  \n",
       "0                 30.99                       613.64  \n",
       "1                 15.90                       247.50  \n",
       "2                 45.45                      1041.50  \n",
       "3                 55.13                       372.60  \n",
       "4                 43.73                       105.40  "
      ]
     },
     "execution_count": 2,
     "metadata": {},
     "output_type": "execute_result"
    }
   ],
   "source": [
    "df = pd.read_csv('combined_columns.csv')\n",
    "df.head()"
   ]
  },
  {
   "cell_type": "code",
   "execution_count": 3,
   "id": "7c47e947",
   "metadata": {},
   "outputs": [
    {
     "data": {
      "text/html": [
       "<div>\n",
       "<style scoped>\n",
       "    .dataframe tbody tr th:only-of-type {\n",
       "        vertical-align: middle;\n",
       "    }\n",
       "\n",
       "    .dataframe tbody tr th {\n",
       "        vertical-align: top;\n",
       "    }\n",
       "\n",
       "    .dataframe thead th {\n",
       "        text-align: right;\n",
       "    }\n",
       "</style>\n",
       "<table border=\"1\" class=\"dataframe\">\n",
       "  <thead>\n",
       "    <tr style=\"text-align: right;\">\n",
       "      <th></th>\n",
       "      <th>foodnumber</th>\n",
       "      <th>User</th>\n",
       "      <th>Rating</th>\n",
       "      <th>Time Taken (s)</th>\n",
       "      <th>Total Distance (km)</th>\n",
       "      <th>Average Speed (km/h)</th>\n",
       "      <th>Total Calories Burned (cal)</th>\n",
       "    </tr>\n",
       "  </thead>\n",
       "  <tbody>\n",
       "    <tr>\n",
       "      <th>85</th>\n",
       "      <td>85</td>\n",
       "      <td>996</td>\n",
       "      <td>4</td>\n",
       "      <td>3459</td>\n",
       "      <td>46.55</td>\n",
       "      <td>48.44</td>\n",
       "      <td>1375.90</td>\n",
       "    </tr>\n",
       "    <tr>\n",
       "      <th>139</th>\n",
       "      <td>139</td>\n",
       "      <td>1420</td>\n",
       "      <td>5</td>\n",
       "      <td>3458</td>\n",
       "      <td>56.91</td>\n",
       "      <td>59.24</td>\n",
       "      <td>1350.10</td>\n",
       "    </tr>\n",
       "    <tr>\n",
       "      <th>143</th>\n",
       "      <td>143</td>\n",
       "      <td>1503</td>\n",
       "      <td>3</td>\n",
       "      <td>3294</td>\n",
       "      <td>35.83</td>\n",
       "      <td>39.16</td>\n",
       "      <td>1318.46</td>\n",
       "    </tr>\n",
       "    <tr>\n",
       "      <th>63</th>\n",
       "      <td>63</td>\n",
       "      <td>774</td>\n",
       "      <td>2</td>\n",
       "      <td>3331</td>\n",
       "      <td>33.04</td>\n",
       "      <td>35.71</td>\n",
       "      <td>1311.70</td>\n",
       "    </tr>\n",
       "    <tr>\n",
       "      <th>133</th>\n",
       "      <td>133</td>\n",
       "      <td>1414</td>\n",
       "      <td>3</td>\n",
       "      <td>3467</td>\n",
       "      <td>38.13</td>\n",
       "      <td>39.59</td>\n",
       "      <td>1283.59</td>\n",
       "    </tr>\n",
       "  </tbody>\n",
       "</table>\n",
       "</div>"
      ],
      "text/plain": [
       "     foodnumber  User  Rating  Time Taken (s)  Total Distance (km)  \\\n",
       "85           85   996       4            3459                46.55   \n",
       "139         139  1420       5            3458                56.91   \n",
       "143         143  1503       3            3294                35.83   \n",
       "63           63   774       2            3331                33.04   \n",
       "133         133  1414       3            3467                38.13   \n",
       "\n",
       "     Average Speed (km/h)  Total Calories Burned (cal)  \n",
       "85                  48.44                      1375.90  \n",
       "139                 59.24                      1350.10  \n",
       "143                 39.16                      1318.46  \n",
       "63                  35.71                      1311.70  \n",
       "133                 39.59                      1283.59  "
      ]
     },
     "execution_count": 3,
     "metadata": {},
     "output_type": "execute_result"
    }
   ],
   "source": [
    "#top 5 most calories burnt\n",
    "sorted_df = df.sort_values(by='Total Calories Burned (cal)', ascending=False)\n",
    "\n",
    "top_5_users = sorted_df.head(5)\n",
    "top_5_users"
   ]
  },
  {
   "cell_type": "code",
   "execution_count": 5,
   "id": "f9f26dda",
   "metadata": {},
   "outputs": [
    {
     "data": {
      "application/vnd.plotly.v1+json": {
       "config": {
        "plotlyServerURL": "https://plot.ly"
       },
       "data": [
        {
         "marker": {
          "color": "skyblue"
         },
         "opacity": 0.75,
         "type": "histogram",
         "x": [
          613.64,
          247.5,
          1041.5,
          372.6,
          105.4,
          150.1,
          157.73,
          1067.65,
          608.95,
          887.48,
          997.29,
          533.68,
          561.77,
          516.89,
          1038.99,
          375.8,
          740.87,
          618.44,
          1011.53,
          376.2,
          573.06,
          779.45,
          266.61,
          368.58,
          794.36,
          576.99,
          463.22,
          839.52,
          104.92,
          1083.14,
          743.97,
          667.25,
          276.99,
          347.69,
          180.55,
          322.93,
          783.01,
          1112.05,
          303.43,
          233.83,
          570.8,
          490.24,
          166.02,
          655.46,
          77.39,
          593.5,
          119.35,
          181.16,
          266.27,
          125.8,
          814.09,
          549.65,
          181.44,
          179.17,
          768.53,
          231.29,
          439.61,
          183.56,
          633.87,
          965.56,
          274.86,
          459.86,
          201.45,
          1311.7,
          608.13,
          426.3,
          142.32,
          110.47,
          907.92,
          346.03,
          300.2,
          552.89,
          140.26,
          1077.16,
          380.59,
          1234.32,
          1187.15,
          761.73,
          689.46,
          1146.92,
          100.52,
          1120.27,
          275.34,
          329.94,
          1268.28,
          1375.9,
          418.66,
          546.86,
          310.15,
          406.54,
          259.87,
          336.22,
          1067.44,
          1032.92,
          1198.52,
          1019.89,
          615.67,
          705.38,
          476.09,
          820.46,
          405.91,
          274.03,
          272.11,
          896.96,
          669.28,
          204.68,
          929.09,
          701.59,
          120.34,
          616.5,
          818.98,
          417.06,
          196,
          875.34,
          1076.7,
          348.93,
          669.71,
          452.1,
          556.11,
          1152.45,
          285.95,
          529.5,
          507.96,
          948.51,
          311.67,
          794.45,
          841.53,
          290.89,
          334.71,
          556.38,
          422.64,
          947.94,
          813.94,
          1283.59,
          628.15,
          1025.13,
          537.55,
          112.27,
          194.83,
          1350.1,
          872.09,
          269.89,
          285.39,
          1318.46,
          202.84,
          1127.7,
          491.2,
          1078.67,
          1105.75,
          285.1
         ]
        }
       ],
       "layout": {
        "annotations": [
         {
          "arrowcolor": "black",
          "arrowhead": 1,
          "arrowwidth": 2,
          "ax": 20,
          "ay": -30,
          "bgcolor": "lightgray",
          "opacity": 0.8,
          "showarrow": true,
          "text": "Recommended: 600 Calories to burn in one cycling activity",
          "x": 600,
          "y": 30
         }
        ],
        "bargap": 0.05,
        "shapes": [
         {
          "line": {
           "color": "red",
           "width": 2
          },
          "type": "line",
          "x0": 600,
          "x1": 600,
          "xref": "x",
          "y0": 0,
          "y1": 30,
          "yref": "y"
         }
        ],
        "template": {
         "data": {
          "bar": [
           {
            "error_x": {
             "color": "#2a3f5f"
            },
            "error_y": {
             "color": "#2a3f5f"
            },
            "marker": {
             "line": {
              "color": "#E5ECF6",
              "width": 0.5
             },
             "pattern": {
              "fillmode": "overlay",
              "size": 10,
              "solidity": 0.2
             }
            },
            "type": "bar"
           }
          ],
          "barpolar": [
           {
            "marker": {
             "line": {
              "color": "#E5ECF6",
              "width": 0.5
             },
             "pattern": {
              "fillmode": "overlay",
              "size": 10,
              "solidity": 0.2
             }
            },
            "type": "barpolar"
           }
          ],
          "carpet": [
           {
            "aaxis": {
             "endlinecolor": "#2a3f5f",
             "gridcolor": "white",
             "linecolor": "white",
             "minorgridcolor": "white",
             "startlinecolor": "#2a3f5f"
            },
            "baxis": {
             "endlinecolor": "#2a3f5f",
             "gridcolor": "white",
             "linecolor": "white",
             "minorgridcolor": "white",
             "startlinecolor": "#2a3f5f"
            },
            "type": "carpet"
           }
          ],
          "choropleth": [
           {
            "colorbar": {
             "outlinewidth": 0,
             "ticks": ""
            },
            "type": "choropleth"
           }
          ],
          "contour": [
           {
            "colorbar": {
             "outlinewidth": 0,
             "ticks": ""
            },
            "colorscale": [
             [
              0,
              "#0d0887"
             ],
             [
              0.1111111111111111,
              "#46039f"
             ],
             [
              0.2222222222222222,
              "#7201a8"
             ],
             [
              0.3333333333333333,
              "#9c179e"
             ],
             [
              0.4444444444444444,
              "#bd3786"
             ],
             [
              0.5555555555555556,
              "#d8576b"
             ],
             [
              0.6666666666666666,
              "#ed7953"
             ],
             [
              0.7777777777777778,
              "#fb9f3a"
             ],
             [
              0.8888888888888888,
              "#fdca26"
             ],
             [
              1,
              "#f0f921"
             ]
            ],
            "type": "contour"
           }
          ],
          "contourcarpet": [
           {
            "colorbar": {
             "outlinewidth": 0,
             "ticks": ""
            },
            "type": "contourcarpet"
           }
          ],
          "heatmap": [
           {
            "colorbar": {
             "outlinewidth": 0,
             "ticks": ""
            },
            "colorscale": [
             [
              0,
              "#0d0887"
             ],
             [
              0.1111111111111111,
              "#46039f"
             ],
             [
              0.2222222222222222,
              "#7201a8"
             ],
             [
              0.3333333333333333,
              "#9c179e"
             ],
             [
              0.4444444444444444,
              "#bd3786"
             ],
             [
              0.5555555555555556,
              "#d8576b"
             ],
             [
              0.6666666666666666,
              "#ed7953"
             ],
             [
              0.7777777777777778,
              "#fb9f3a"
             ],
             [
              0.8888888888888888,
              "#fdca26"
             ],
             [
              1,
              "#f0f921"
             ]
            ],
            "type": "heatmap"
           }
          ],
          "heatmapgl": [
           {
            "colorbar": {
             "outlinewidth": 0,
             "ticks": ""
            },
            "colorscale": [
             [
              0,
              "#0d0887"
             ],
             [
              0.1111111111111111,
              "#46039f"
             ],
             [
              0.2222222222222222,
              "#7201a8"
             ],
             [
              0.3333333333333333,
              "#9c179e"
             ],
             [
              0.4444444444444444,
              "#bd3786"
             ],
             [
              0.5555555555555556,
              "#d8576b"
             ],
             [
              0.6666666666666666,
              "#ed7953"
             ],
             [
              0.7777777777777778,
              "#fb9f3a"
             ],
             [
              0.8888888888888888,
              "#fdca26"
             ],
             [
              1,
              "#f0f921"
             ]
            ],
            "type": "heatmapgl"
           }
          ],
          "histogram": [
           {
            "marker": {
             "pattern": {
              "fillmode": "overlay",
              "size": 10,
              "solidity": 0.2
             }
            },
            "type": "histogram"
           }
          ],
          "histogram2d": [
           {
            "colorbar": {
             "outlinewidth": 0,
             "ticks": ""
            },
            "colorscale": [
             [
              0,
              "#0d0887"
             ],
             [
              0.1111111111111111,
              "#46039f"
             ],
             [
              0.2222222222222222,
              "#7201a8"
             ],
             [
              0.3333333333333333,
              "#9c179e"
             ],
             [
              0.4444444444444444,
              "#bd3786"
             ],
             [
              0.5555555555555556,
              "#d8576b"
             ],
             [
              0.6666666666666666,
              "#ed7953"
             ],
             [
              0.7777777777777778,
              "#fb9f3a"
             ],
             [
              0.8888888888888888,
              "#fdca26"
             ],
             [
              1,
              "#f0f921"
             ]
            ],
            "type": "histogram2d"
           }
          ],
          "histogram2dcontour": [
           {
            "colorbar": {
             "outlinewidth": 0,
             "ticks": ""
            },
            "colorscale": [
             [
              0,
              "#0d0887"
             ],
             [
              0.1111111111111111,
              "#46039f"
             ],
             [
              0.2222222222222222,
              "#7201a8"
             ],
             [
              0.3333333333333333,
              "#9c179e"
             ],
             [
              0.4444444444444444,
              "#bd3786"
             ],
             [
              0.5555555555555556,
              "#d8576b"
             ],
             [
              0.6666666666666666,
              "#ed7953"
             ],
             [
              0.7777777777777778,
              "#fb9f3a"
             ],
             [
              0.8888888888888888,
              "#fdca26"
             ],
             [
              1,
              "#f0f921"
             ]
            ],
            "type": "histogram2dcontour"
           }
          ],
          "mesh3d": [
           {
            "colorbar": {
             "outlinewidth": 0,
             "ticks": ""
            },
            "type": "mesh3d"
           }
          ],
          "parcoords": [
           {
            "line": {
             "colorbar": {
              "outlinewidth": 0,
              "ticks": ""
             }
            },
            "type": "parcoords"
           }
          ],
          "pie": [
           {
            "automargin": true,
            "type": "pie"
           }
          ],
          "scatter": [
           {
            "fillpattern": {
             "fillmode": "overlay",
             "size": 10,
             "solidity": 0.2
            },
            "type": "scatter"
           }
          ],
          "scatter3d": [
           {
            "line": {
             "colorbar": {
              "outlinewidth": 0,
              "ticks": ""
             }
            },
            "marker": {
             "colorbar": {
              "outlinewidth": 0,
              "ticks": ""
             }
            },
            "type": "scatter3d"
           }
          ],
          "scattercarpet": [
           {
            "marker": {
             "colorbar": {
              "outlinewidth": 0,
              "ticks": ""
             }
            },
            "type": "scattercarpet"
           }
          ],
          "scattergeo": [
           {
            "marker": {
             "colorbar": {
              "outlinewidth": 0,
              "ticks": ""
             }
            },
            "type": "scattergeo"
           }
          ],
          "scattergl": [
           {
            "marker": {
             "colorbar": {
              "outlinewidth": 0,
              "ticks": ""
             }
            },
            "type": "scattergl"
           }
          ],
          "scattermapbox": [
           {
            "marker": {
             "colorbar": {
              "outlinewidth": 0,
              "ticks": ""
             }
            },
            "type": "scattermapbox"
           }
          ],
          "scatterpolar": [
           {
            "marker": {
             "colorbar": {
              "outlinewidth": 0,
              "ticks": ""
             }
            },
            "type": "scatterpolar"
           }
          ],
          "scatterpolargl": [
           {
            "marker": {
             "colorbar": {
              "outlinewidth": 0,
              "ticks": ""
             }
            },
            "type": "scatterpolargl"
           }
          ],
          "scatterternary": [
           {
            "marker": {
             "colorbar": {
              "outlinewidth": 0,
              "ticks": ""
             }
            },
            "type": "scatterternary"
           }
          ],
          "surface": [
           {
            "colorbar": {
             "outlinewidth": 0,
             "ticks": ""
            },
            "colorscale": [
             [
              0,
              "#0d0887"
             ],
             [
              0.1111111111111111,
              "#46039f"
             ],
             [
              0.2222222222222222,
              "#7201a8"
             ],
             [
              0.3333333333333333,
              "#9c179e"
             ],
             [
              0.4444444444444444,
              "#bd3786"
             ],
             [
              0.5555555555555556,
              "#d8576b"
             ],
             [
              0.6666666666666666,
              "#ed7953"
             ],
             [
              0.7777777777777778,
              "#fb9f3a"
             ],
             [
              0.8888888888888888,
              "#fdca26"
             ],
             [
              1,
              "#f0f921"
             ]
            ],
            "type": "surface"
           }
          ],
          "table": [
           {
            "cells": {
             "fill": {
              "color": "#EBF0F8"
             },
             "line": {
              "color": "white"
             }
            },
            "header": {
             "fill": {
              "color": "#C8D4E3"
             },
             "line": {
              "color": "white"
             }
            },
            "type": "table"
           }
          ]
         },
         "layout": {
          "annotationdefaults": {
           "arrowcolor": "#2a3f5f",
           "arrowhead": 0,
           "arrowwidth": 1
          },
          "autotypenumbers": "strict",
          "coloraxis": {
           "colorbar": {
            "outlinewidth": 0,
            "ticks": ""
           }
          },
          "colorscale": {
           "diverging": [
            [
             0,
             "#8e0152"
            ],
            [
             0.1,
             "#c51b7d"
            ],
            [
             0.2,
             "#de77ae"
            ],
            [
             0.3,
             "#f1b6da"
            ],
            [
             0.4,
             "#fde0ef"
            ],
            [
             0.5,
             "#f7f7f7"
            ],
            [
             0.6,
             "#e6f5d0"
            ],
            [
             0.7,
             "#b8e186"
            ],
            [
             0.8,
             "#7fbc41"
            ],
            [
             0.9,
             "#4d9221"
            ],
            [
             1,
             "#276419"
            ]
           ],
           "sequential": [
            [
             0,
             "#0d0887"
            ],
            [
             0.1111111111111111,
             "#46039f"
            ],
            [
             0.2222222222222222,
             "#7201a8"
            ],
            [
             0.3333333333333333,
             "#9c179e"
            ],
            [
             0.4444444444444444,
             "#bd3786"
            ],
            [
             0.5555555555555556,
             "#d8576b"
            ],
            [
             0.6666666666666666,
             "#ed7953"
            ],
            [
             0.7777777777777778,
             "#fb9f3a"
            ],
            [
             0.8888888888888888,
             "#fdca26"
            ],
            [
             1,
             "#f0f921"
            ]
           ],
           "sequentialminus": [
            [
             0,
             "#0d0887"
            ],
            [
             0.1111111111111111,
             "#46039f"
            ],
            [
             0.2222222222222222,
             "#7201a8"
            ],
            [
             0.3333333333333333,
             "#9c179e"
            ],
            [
             0.4444444444444444,
             "#bd3786"
            ],
            [
             0.5555555555555556,
             "#d8576b"
            ],
            [
             0.6666666666666666,
             "#ed7953"
            ],
            [
             0.7777777777777778,
             "#fb9f3a"
            ],
            [
             0.8888888888888888,
             "#fdca26"
            ],
            [
             1,
             "#f0f921"
            ]
           ]
          },
          "colorway": [
           "#636efa",
           "#EF553B",
           "#00cc96",
           "#ab63fa",
           "#FFA15A",
           "#19d3f3",
           "#FF6692",
           "#B6E880",
           "#FF97FF",
           "#FECB52"
          ],
          "font": {
           "color": "#2a3f5f"
          },
          "geo": {
           "bgcolor": "white",
           "lakecolor": "white",
           "landcolor": "#E5ECF6",
           "showlakes": true,
           "showland": true,
           "subunitcolor": "white"
          },
          "hoverlabel": {
           "align": "left"
          },
          "hovermode": "closest",
          "mapbox": {
           "style": "light"
          },
          "paper_bgcolor": "white",
          "plot_bgcolor": "#E5ECF6",
          "polar": {
           "angularaxis": {
            "gridcolor": "white",
            "linecolor": "white",
            "ticks": ""
           },
           "bgcolor": "#E5ECF6",
           "radialaxis": {
            "gridcolor": "white",
            "linecolor": "white",
            "ticks": ""
           }
          },
          "scene": {
           "xaxis": {
            "backgroundcolor": "#E5ECF6",
            "gridcolor": "white",
            "gridwidth": 2,
            "linecolor": "white",
            "showbackground": true,
            "ticks": "",
            "zerolinecolor": "white"
           },
           "yaxis": {
            "backgroundcolor": "#E5ECF6",
            "gridcolor": "white",
            "gridwidth": 2,
            "linecolor": "white",
            "showbackground": true,
            "ticks": "",
            "zerolinecolor": "white"
           },
           "zaxis": {
            "backgroundcolor": "#E5ECF6",
            "gridcolor": "white",
            "gridwidth": 2,
            "linecolor": "white",
            "showbackground": true,
            "ticks": "",
            "zerolinecolor": "white"
           }
          },
          "shapedefaults": {
           "line": {
            "color": "#2a3f5f"
           }
          },
          "ternary": {
           "aaxis": {
            "gridcolor": "white",
            "linecolor": "white",
            "ticks": ""
           },
           "baxis": {
            "gridcolor": "white",
            "linecolor": "white",
            "ticks": ""
           },
           "bgcolor": "#E5ECF6",
           "caxis": {
            "gridcolor": "white",
            "linecolor": "white",
            "ticks": ""
           }
          },
          "title": {
           "x": 0.05
          },
          "xaxis": {
           "automargin": true,
           "gridcolor": "white",
           "linecolor": "white",
           "ticks": "",
           "title": {
            "standoff": 15
           },
           "zerolinecolor": "white",
           "zerolinewidth": 2
          },
          "yaxis": {
           "automargin": true,
           "gridcolor": "white",
           "linecolor": "white",
           "ticks": "",
           "title": {
            "standoff": 15
           },
           "zerolinecolor": "white",
           "zerolinewidth": 2
          }
         }
        },
        "title": {
         "text": "Histogram of Total Calories Burned"
        },
        "xaxis": {
         "title": {
          "text": "Total Calories Burned (cal)"
         }
        },
        "yaxis": {
         "title": {
          "text": "Frequency"
         }
        }
       }
      }
     },
     "metadata": {},
     "output_type": "display_data"
    }
   ],
   "source": [
    "import plotly.graph_objects as go\n",
    "import pandas as pd\n",
    "\n",
    "calories_burned = df['Total Calories Burned (cal)']\n",
    "fig = go.Figure()\n",
    "fig.add_trace(go.Histogram(x=calories_burned, marker_color='skyblue', opacity=0.75))\n",
    "fig.update_layout(\n",
    "    shapes=[\n",
    "        dict(\n",
    "            type='line',\n",
    "            xref='x',\n",
    "            yref='y',\n",
    "            x0=600,\n",
    "            y0=0,\n",
    "            x1=600,\n",
    "            y1=30,\n",
    "            line=dict(color='red', width=2)\n",
    "        )\n",
    "    ]\n",
    ")\n",
    "fig.add_annotation(\n",
    "    x=600,\n",
    "    y=30,\n",
    "    text='Recommended: 600 Calories to burn in one cycling activity',\n",
    "    showarrow=True,\n",
    "    arrowhead=1,\n",
    "    arrowcolor='black',\n",
    "    arrowwidth=2,\n",
    "    ax=20,\n",
    "    ay=-30,\n",
    "    bgcolor='lightgray',\n",
    "    opacity=0.8\n",
    ")\n",
    "fig.update_layout(\n",
    "    title='Histogram of Total Calories Burned',\n",
    "    xaxis_title='Total Calories Burned (cal)',\n",
    "    yaxis_title='Frequency',\n",
    "    bargap=0.05\n",
    ")\n",
    "\n",
    "fig.show()"
   ]
  },
  {
   "cell_type": "code",
   "execution_count": 7,
   "id": "481eb603",
   "metadata": {},
   "outputs": [
    {
     "data": {
      "text/html": [
       "\n",
       "        <iframe\n",
       "            width=\"100%\"\n",
       "            height=\"650\"\n",
       "            src=\"http://127.0.0.1:8050/\"\n",
       "            frameborder=\"0\"\n",
       "            allowfullscreen\n",
       "            \n",
       "        ></iframe>\n",
       "        "
      ],
      "text/plain": [
       "<IPython.lib.display.IFrame at 0x24686b27a90>"
      ]
     },
     "metadata": {},
     "output_type": "display_data"
    }
   ],
   "source": [
    "import dash\n",
    "from dash import dcc, html\n",
    "import dash_table\n",
    "from dash.dependencies import Input, Output\n",
    "\n",
    "df_sorted = df.sort_values(by='Total Calories Burned (cal)', ascending=False)\n",
    "\n",
    "df_sorted['Rank'] = range(1, len(df_sorted) + 1)\n",
    "\n",
    "top_10_users = df_sorted.head(10)\n",
    "top_10_users = top_10_users.drop(columns=['foodnumber', 'Rating'])\n",
    "\n",
    "\n",
    "app = dash.Dash(__name__)\n",
    "\n",
    "\n",
    "app.layout = html.Div([\n",
    "    html.H1('Leaderboard', style={'textAlign': 'center', 'color': '#333333'}),\n",
    "    dash_table.DataTable(\n",
    "        id='leaderboard-table',\n",
    "        columns=[\n",
    "            {'name': 'Rank', 'id': 'Rank'},\n",
    "            {'name': 'User', 'id': 'User'},\n",
    "            {'name': 'Time Taken (s)', 'id': 'Time Taken (s)'},\n",
    "            {'name': 'Total Distance (km)', 'id': 'Total Distance (km)'},\n",
    "            {'name': 'Average Speed (km/h)', 'id': 'Average Speed (km/h)'},\n",
    "            {'name': 'Total Calories Burned (cal)', 'id': 'Total Calories Burned (cal)'}\n",
    "        ],\n",
    "        data=top_10_users.to_dict('records'),\n",
    "        style_table={'overflowX': 'auto', 'border': '2px solid #999999', 'border-radius': '5px'},\n",
    "        style_header={'backgroundColor': '#f2f2f2', 'fontWeight': 'bold', 'color': '#333333'},\n",
    "        style_data={'whiteSpace': 'normal', 'height': 'auto', 'color': '#333333'},\n",
    "        style_cell={'textAlign': 'center', 'fontFamily': 'Arial, sans-serif'},\n",
    "        style_as_list_view=True,\n",
    "    )\n",
    "])\n",
    "\n",
    "if __name__ == '__main__':\n",
    "    app.run_server(debug=True)"
   ]
  },
  {
   "cell_type": "code",
   "execution_count": null,
   "id": "263eb81c",
   "metadata": {},
   "outputs": [],
   "source": []
  },
  {
   "cell_type": "code",
   "execution_count": null,
   "id": "1b1a7f9c",
   "metadata": {},
   "outputs": [],
   "source": []
  }
 ],
 "metadata": {
  "kernelspec": {
   "display_name": "Python 3 (ipykernel)",
   "language": "python",
   "name": "python3"
  },
  "language_info": {
   "codemirror_mode": {
    "name": "ipython",
    "version": 3
   },
   "file_extension": ".py",
   "mimetype": "text/x-python",
   "name": "python",
   "nbconvert_exporter": "python",
   "pygments_lexer": "ipython3",
   "version": "3.11.0"
  }
 },
 "nbformat": 4,
 "nbformat_minor": 5
}
